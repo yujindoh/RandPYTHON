{
 "cells": [
  {
   "attachments": {},
   "cell_type": "markdown",
   "metadata": {},
   "source": [
    "# Practice 4\n",
    "## Q1\n",
    "Write a function count_odd(L) that counts how many odd numbers are in a list L. The function should work as follows."
   ]
  },
  {
   "cell_type": "code",
   "execution_count": 1,
   "metadata": {},
   "outputs": [],
   "source": [
    "def count_odd(L):\n",
    "    empty = []\n",
    "    for i in L:\n",
    "        if i % 2 == 1:\n",
    "            empty.append(i)\n",
    "    return(len(empty))"
   ]
  },
  {
   "cell_type": "code",
   "execution_count": 2,
   "metadata": {},
   "outputs": [
    {
     "data": {
      "text/plain": [
       "3"
      ]
     },
     "execution_count": 2,
     "metadata": {},
     "output_type": "execute_result"
    }
   ],
   "source": [
    "L = [1,2,5,7,8]\n",
    "a = count_odd(L)\n",
    "a"
   ]
  },
  {
   "attachments": {},
   "cell_type": "markdown",
   "metadata": {},
   "source": [
    "## Q2 (다시 해보기)\n",
    "Write a function called mySqrt(n) that will approximate the square root of a number n, by using Newton’s algorithm. Newton’s approach is an iterative guessing algorithm where the initial guess is n/2 and each subsequent guess is computed using the formula: newguess = (1/2) * ( oldguess + ( n / oldguess ) ). Using while loop, stop the iteration when the difference between newguess and oldguess becomes very small, then the newguess can be used as an approximation of the square root of n. The function should work as follows."
   ]
  },
  {
   "cell_type": "code",
   "execution_count": 3,
   "metadata": {},
   "outputs": [],
   "source": [
    "def mySqrt(n): \n",
    "    old = 0\n",
    "    new = n/2\n",
    "    while abs(old-new) > 1e-10: \n",
    "        old = new\n",
    "        new = (1/2) * (old+(n/old))\n",
    "    return(new)"
   ]
  },
  {
   "cell_type": "code",
   "execution_count": 4,
   "metadata": {},
   "outputs": [
    {
     "data": {
      "text/plain": [
       "1.414213562373095"
      ]
     },
     "execution_count": 4,
     "metadata": {},
     "output_type": "execute_result"
    }
   ],
   "source": [
    "a = mySqrt(2)\n",
    "a"
   ]
  },
  {
   "cell_type": "markdown",
   "metadata": {},
   "source": [
    "## Q3\n",
    "(1)"
   ]
  },
  {
   "cell_type": "code",
   "execution_count": 13,
   "metadata": {},
   "outputs": [],
   "source": [
    "def grading(score = None):\n",
    "    if score == None :\n",
    "        print('Input your score!!')\n",
    "    elif score > 90 and score <= 100:\n",
    "        print('Grade is A!')\n",
    "    elif score > 80 and score <= 90:\n",
    "        print('Grade is B!')\n",
    "    elif score > 70 and score <= 80:\n",
    "        print('Grade is C!')\n",
    "    elif score > 60 and score <= 70:\n",
    "        print('Grade is D!')\n",
    "    elif score >=0 and score <=60:\n",
    "        print('Grade is F!')\n",
    "    elif score < 0 or score > 100:\n",
    "        print('Score must be a number between 0 and 100!!')"
   ]
  },
  {
   "cell_type": "code",
   "execution_count": 14,
   "metadata": {},
   "outputs": [
    {
     "name": "stdout",
     "output_type": "stream",
     "text": [
      "Input your score!!\n"
     ]
    }
   ],
   "source": [
    "grading()"
   ]
  },
  {
   "cell_type": "code",
   "execution_count": 15,
   "metadata": {},
   "outputs": [
    {
     "name": "stdout",
     "output_type": "stream",
     "text": [
      "Grade is C!\n"
     ]
    }
   ],
   "source": [
    "grading(75)"
   ]
  },
  {
   "cell_type": "code",
   "execution_count": 16,
   "metadata": {},
   "outputs": [
    {
     "name": "stdout",
     "output_type": "stream",
     "text": [
      "Score must be a number between 0 and 100!!\n"
     ]
    }
   ],
   "source": [
    "grading(score = -5)"
   ]
  },
  {
   "attachments": {},
   "cell_type": "markdown",
   "metadata": {},
   "source": [
    "(2) Modify the function grading in (1) so that it has additional parameter maxscore. The maxscore is 100 by default, but you can pass other values for scaling the score. For example, grading(score=0.5, maxscore=1) returns the grade for the score 50 and grading(score=15, maxscore=20) returns the grade for the score 75. It also should work as follows."
   ]
  },
  {
   "cell_type": "code",
   "execution_count": 27,
   "metadata": {},
   "outputs": [],
   "source": [
    "def grading(score = None, maxscore=100):\n",
    "    if score == None :\n",
    "        print('Input your score!!')\n",
    "    elif score / maxscore > 0.9 and score / maxscore <= 1.0 :\n",
    "        print('Grade is A!')\n",
    "    elif score / maxscore > 0.8 and score / maxscore <= 0.9:\n",
    "        print('Grade is B!')\n",
    "    elif score / maxscore > 0.7 and score / maxscore <= 0.8:\n",
    "        print('Grade is C!')\n",
    "    elif score / maxscore > 0.6 and score / maxscore <= 0.7:\n",
    "        print('Grade is D!')\n",
    "    elif score / maxscore >= 0.0 and score / maxscore <= 0.6:\n",
    "        print('Grade is F!')\n",
    "    elif score / maxscore < 0.0 or score / maxscore > 1.0:\n",
    "        print('Score must be a number between 0 and', maxscore, '!!')"
   ]
  },
  {
   "cell_type": "code",
   "execution_count": 28,
   "metadata": {},
   "outputs": [
    {
     "name": "stdout",
     "output_type": "stream",
     "text": [
      "Grade is C!\n"
     ]
    }
   ],
   "source": [
    "grading(score=75)"
   ]
  },
  {
   "cell_type": "code",
   "execution_count": 29,
   "metadata": {},
   "outputs": [
    {
     "name": "stdout",
     "output_type": "stream",
     "text": [
      "Grade is B!\n"
     ]
    }
   ],
   "source": [
    "grading(maxscore =1, score = 0.85)"
   ]
  },
  {
   "cell_type": "code",
   "execution_count": 30,
   "metadata": {},
   "outputs": [
    {
     "name": "stdout",
     "output_type": "stream",
     "text": [
      "Grade is F!\n"
     ]
    }
   ],
   "source": [
    "grading(5, maxscore = 10)"
   ]
  },
  {
   "cell_type": "code",
   "execution_count": 31,
   "metadata": {},
   "outputs": [
    {
     "name": "stdout",
     "output_type": "stream",
     "text": [
      "Grade is A!\n"
     ]
    }
   ],
   "source": [
    "grading(0.95,1)"
   ]
  },
  {
   "cell_type": "code",
   "execution_count": 32,
   "metadata": {},
   "outputs": [
    {
     "name": "stdout",
     "output_type": "stream",
     "text": [
      "Input your score!!\n"
     ]
    }
   ],
   "source": [
    "grading(maxscore=1)"
   ]
  },
  {
   "cell_type": "code",
   "execution_count": 33,
   "metadata": {},
   "outputs": [
    {
     "name": "stdout",
     "output_type": "stream",
     "text": [
      "Score must be a number between 0 and 0.5 !!\n"
     ]
    }
   ],
   "source": [
    "grading(-0.3,0.5)"
   ]
  },
  {
   "attachments": {},
   "cell_type": "markdown",
   "metadata": {},
   "source": [
    "(3) Explain why an error occurs, if you call the function grading in (2) as follows"
   ]
  },
  {
   "cell_type": "code",
   "execution_count": 38,
   "metadata": {},
   "outputs": [
    {
     "ename": "TypeError",
     "evalue": "grading() got multiple values for argument 'score'",
     "output_type": "error",
     "traceback": [
      "\u001b[0;31m---------------------------------------------------------------------------\u001b[0m",
      "\u001b[0;31mTypeError\u001b[0m                                 Traceback (most recent call last)",
      "\u001b[0;32m<ipython-input-38-b714b4eb690c>\u001b[0m in \u001b[0;36m<module>\u001b[0;34m\u001b[0m\n\u001b[0;32m----> 1\u001b[0;31m \u001b[0mgrading\u001b[0m\u001b[0;34m(\u001b[0m\u001b[0;36m5\u001b[0m\u001b[0;34m,\u001b[0m \u001b[0mscore\u001b[0m\u001b[0;34m=\u001b[0m\u001b[0;36m3\u001b[0m\u001b[0;34m)\u001b[0m\u001b[0;34m\u001b[0m\u001b[0;34m\u001b[0m\u001b[0m\n\u001b[0m",
      "\u001b[0;31mTypeError\u001b[0m: grading() got multiple values for argument 'score'"
     ]
    }
   ],
   "source": [
    "grading(5, score=3) "
   ]
  },
  {
   "cell_type": "markdown",
   "metadata": {},
   "source": [
    "positional argument는 parameter들을 순서대로 채워주는데 이렇게 되면 score만 두번 채워주게 되는 꼴임"
   ]
  },
  {
   "cell_type": "code",
   "execution_count": 39,
   "metadata": {},
   "outputs": [
    {
     "ename": "SyntaxError",
     "evalue": "positional argument follows keyword argument (<ipython-input-39-e75d4778dae0>, line 1)",
     "output_type": "error",
     "traceback": [
      "\u001b[0;36m  File \u001b[0;32m\"<ipython-input-39-e75d4778dae0>\"\u001b[0;36m, line \u001b[0;32m1\u001b[0m\n\u001b[0;31m    grading(score=0.81, 1)\u001b[0m\n\u001b[0m                       ^\u001b[0m\n\u001b[0;31mSyntaxError\u001b[0m\u001b[0;31m:\u001b[0m positional argument follows keyword argument\n"
     ]
    }
   ],
   "source": [
    "grading(score=0.81, 1)"
   ]
  },
  {
   "cell_type": "markdown",
   "metadata": {},
   "source": [
    "항상 keyword argument가 뒤에 와야함"
   ]
  },
  {
   "cell_type": "markdown",
   "metadata": {},
   "source": [
    "## Q4"
   ]
  },
  {
   "attachments": {},
   "cell_type": "markdown",
   "metadata": {},
   "source": [
    "- import game\n",
    "- game.sound.echo.echo_test()"
   ]
  },
  {
   "cell_type": "markdown",
   "metadata": {},
   "source": [
    "init 파일(directory가 python package임을 알려주는 파일)이 비어있기 때문에 가장 하위 폴더에 있는 모듈까지 직접 호출해 불러와야 함수를 실행할 수 있다."
   ]
  }
 ],
 "metadata": {
  "kernelspec": {
   "display_name": "Python 3",
   "language": "python",
   "name": "python3"
  },
  "language_info": {
   "codemirror_mode": {
    "name": "ipython",
    "version": 3
   },
   "file_extension": ".py",
   "mimetype": "text/x-python",
   "name": "python",
   "nbconvert_exporter": "python",
   "pygments_lexer": "ipython3",
   "version": "3.7.7"
  }
 },
 "nbformat": 4,
 "nbformat_minor": 2
}
